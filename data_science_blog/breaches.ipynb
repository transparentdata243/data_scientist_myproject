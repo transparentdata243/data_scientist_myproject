{
 "cells": [
  {
   "cell_type": "markdown",
   "metadata": {},
   "source": [
    "# What are the knowledge can we derive from data breaches to guide the enterprise to better defend themselves?\n",
    "\n",
    "## Business Understanding\n",
    "Data is one of the most valuable assets for companies. It is used to make intelligence decisions and forecasts. In many scenarios, the value of the data grows exponentially as the size of the data grows. \n",
    "\n",
    "As companies profits from these data, attackers are also actively trying to steal them for profit. The scale of the data breaches has also getting increasingly large. I analyzed the breach data from https://haveibeenpwned.com/ to answer the following questions:\n",
    "\n",
    "Q1: What are the top incidents?\n",
    "\n",
    "Q2: Does the incidents and breach scale increase over time?\n",
    "\n",
    "Q3: Does the amount of leaked accounts increase as the number of incident increase?\n",
    "\n",
    "Q4: Does any months has more incidents or more leaks than the others across the years?\n",
    "\n",
    "Q5: What is the ranking of the asset classes in these incidents?"
   ]
  },
  {
   "cell_type": "code",
   "execution_count": 130,
   "metadata": {},
   "outputs": [],
   "source": [
    "import pandas as pd\n",
    "import numpy as np\n",
    "import matplotlib.pyplot as plt\n",
    "import seaborn as sb\n",
    "\n",
    "%matplotlib inline"
   ]
  },
  {
   "cell_type": "markdown",
   "metadata": {},
   "source": [
    "## Data Understanding and data preparation\n",
    "I provides a view to the data. What are the columns categories? What is the time span of the data? etc.\n",
    "I group data understanding and data preparation together because the data requires cleaning before I evaluate various attributes and this is an iterative process in my analysis."
   ]
  },
  {
   "cell_type": "code",
   "execution_count": 131,
   "metadata": {},
   "outputs": [
    {
     "data": {
      "text/plain": [
       "(479, 15)"
      ]
     },
     "execution_count": 131,
     "metadata": {},
     "output_type": "execute_result"
    }
   ],
   "source": [
    "br = pd.read_json('breaches.json')\n",
    "br.shape"
   ]
  },
  {
   "cell_type": "code",
   "execution_count": 132,
   "metadata": {},
   "outputs": [
    {
     "data": {
      "text/html": [
       "<div>\n",
       "<style scoped>\n",
       "    .dataframe tbody tr th:only-of-type {\n",
       "        vertical-align: middle;\n",
       "    }\n",
       "\n",
       "    .dataframe tbody tr th {\n",
       "        vertical-align: top;\n",
       "    }\n",
       "\n",
       "    .dataframe thead th {\n",
       "        text-align: right;\n",
       "    }\n",
       "</style>\n",
       "<table border=\"1\" class=\"dataframe\">\n",
       "  <thead>\n",
       "    <tr style=\"text-align: right;\">\n",
       "      <th></th>\n",
       "      <th>Name</th>\n",
       "      <th>Title</th>\n",
       "      <th>Domain</th>\n",
       "      <th>BreachDate</th>\n",
       "      <th>AddedDate</th>\n",
       "      <th>ModifiedDate</th>\n",
       "      <th>PwnCount</th>\n",
       "      <th>Description</th>\n",
       "      <th>LogoPath</th>\n",
       "      <th>DataClasses</th>\n",
       "      <th>IsVerified</th>\n",
       "      <th>IsFabricated</th>\n",
       "      <th>IsSensitive</th>\n",
       "      <th>IsRetired</th>\n",
       "      <th>IsSpamList</th>\n",
       "    </tr>\n",
       "  </thead>\n",
       "  <tbody>\n",
       "    <tr>\n",
       "      <th>0</th>\n",
       "      <td>000webhost</td>\n",
       "      <td>000webhost</td>\n",
       "      <td>000webhost.com</td>\n",
       "      <td>2015-03-01</td>\n",
       "      <td>2015-10-26T23:35:45Z</td>\n",
       "      <td>2017-12-10T21:44:27Z</td>\n",
       "      <td>14936670</td>\n",
       "      <td>In approximately March 2015, the free web host...</td>\n",
       "      <td>https://haveibeenpwned.com/Content/Images/Pwne...</td>\n",
       "      <td>[Email addresses, IP addresses, Names, Passwords]</td>\n",
       "      <td>True</td>\n",
       "      <td>False</td>\n",
       "      <td>False</td>\n",
       "      <td>False</td>\n",
       "      <td>False</td>\n",
       "    </tr>\n",
       "    <tr>\n",
       "      <th>1</th>\n",
       "      <td>126</td>\n",
       "      <td>126</td>\n",
       "      <td>126.com</td>\n",
       "      <td>2012-01-01</td>\n",
       "      <td>2016-10-08T07:46:05Z</td>\n",
       "      <td>2016-10-08T07:46:05Z</td>\n",
       "      <td>6414191</td>\n",
       "      <td>In approximately 2012, it's alleged that the C...</td>\n",
       "      <td>https://haveibeenpwned.com/Content/Images/Pwne...</td>\n",
       "      <td>[Email addresses, Passwords]</td>\n",
       "      <td>False</td>\n",
       "      <td>False</td>\n",
       "      <td>False</td>\n",
       "      <td>False</td>\n",
       "      <td>False</td>\n",
       "    </tr>\n",
       "    <tr>\n",
       "      <th>2</th>\n",
       "      <td>17Media</td>\n",
       "      <td>17</td>\n",
       "      <td>17app.co</td>\n",
       "      <td>2016-04-19</td>\n",
       "      <td>2016-07-08T01:55:03Z</td>\n",
       "      <td>2016-07-08T01:55:03Z</td>\n",
       "      <td>4009640</td>\n",
       "      <td>In April 2016, customer data obtained from the...</td>\n",
       "      <td>https://haveibeenpwned.com/Content/Images/Pwne...</td>\n",
       "      <td>[Device information, Email addresses, IP addre...</td>\n",
       "      <td>True</td>\n",
       "      <td>False</td>\n",
       "      <td>False</td>\n",
       "      <td>False</td>\n",
       "      <td>False</td>\n",
       "    </tr>\n",
       "    <tr>\n",
       "      <th>3</th>\n",
       "      <td>17173</td>\n",
       "      <td>17173</td>\n",
       "      <td>17173.com</td>\n",
       "      <td>2011-12-28</td>\n",
       "      <td>2018-04-28T04:53:15Z</td>\n",
       "      <td>2018-04-28T04:53:15Z</td>\n",
       "      <td>7485802</td>\n",
       "      <td>In late 2011, &lt;a href=\"https://news.softpedia....</td>\n",
       "      <td>https://haveibeenpwned.com/Content/Images/Pwne...</td>\n",
       "      <td>[Email addresses, Passwords, Usernames]</td>\n",
       "      <td>False</td>\n",
       "      <td>False</td>\n",
       "      <td>False</td>\n",
       "      <td>False</td>\n",
       "      <td>False</td>\n",
       "    </tr>\n",
       "    <tr>\n",
       "      <th>4</th>\n",
       "      <td>2844Breaches</td>\n",
       "      <td>2,844 Separate Data Breaches</td>\n",
       "      <td></td>\n",
       "      <td>2018-02-19</td>\n",
       "      <td>2018-02-26T10:06:02Z</td>\n",
       "      <td>2018-02-26T10:06:02Z</td>\n",
       "      <td>80115532</td>\n",
       "      <td>In February 2018, &lt;a href=\"https://www.troyhun...</td>\n",
       "      <td>https://haveibeenpwned.com/Content/Images/Pwne...</td>\n",
       "      <td>[Email addresses, Passwords]</td>\n",
       "      <td>False</td>\n",
       "      <td>False</td>\n",
       "      <td>False</td>\n",
       "      <td>False</td>\n",
       "      <td>False</td>\n",
       "    </tr>\n",
       "  </tbody>\n",
       "</table>\n",
       "</div>"
      ],
      "text/plain": [
       "           Name                         Title          Domain  BreachDate  \\\n",
       "0    000webhost                    000webhost  000webhost.com  2015-03-01   \n",
       "1           126                           126         126.com  2012-01-01   \n",
       "2       17Media                            17        17app.co  2016-04-19   \n",
       "3         17173                         17173       17173.com  2011-12-28   \n",
       "4  2844Breaches  2,844 Separate Data Breaches                  2018-02-19   \n",
       "\n",
       "              AddedDate          ModifiedDate  PwnCount  \\\n",
       "0  2015-10-26T23:35:45Z  2017-12-10T21:44:27Z  14936670   \n",
       "1  2016-10-08T07:46:05Z  2016-10-08T07:46:05Z   6414191   \n",
       "2  2016-07-08T01:55:03Z  2016-07-08T01:55:03Z   4009640   \n",
       "3  2018-04-28T04:53:15Z  2018-04-28T04:53:15Z   7485802   \n",
       "4  2018-02-26T10:06:02Z  2018-02-26T10:06:02Z  80115532   \n",
       "\n",
       "                                         Description  \\\n",
       "0  In approximately March 2015, the free web host...   \n",
       "1  In approximately 2012, it's alleged that the C...   \n",
       "2  In April 2016, customer data obtained from the...   \n",
       "3  In late 2011, <a href=\"https://news.softpedia....   \n",
       "4  In February 2018, <a href=\"https://www.troyhun...   \n",
       "\n",
       "                                            LogoPath  \\\n",
       "0  https://haveibeenpwned.com/Content/Images/Pwne...   \n",
       "1  https://haveibeenpwned.com/Content/Images/Pwne...   \n",
       "2  https://haveibeenpwned.com/Content/Images/Pwne...   \n",
       "3  https://haveibeenpwned.com/Content/Images/Pwne...   \n",
       "4  https://haveibeenpwned.com/Content/Images/Pwne...   \n",
       "\n",
       "                                         DataClasses  IsVerified  \\\n",
       "0  [Email addresses, IP addresses, Names, Passwords]        True   \n",
       "1                       [Email addresses, Passwords]       False   \n",
       "2  [Device information, Email addresses, IP addre...        True   \n",
       "3            [Email addresses, Passwords, Usernames]       False   \n",
       "4                       [Email addresses, Passwords]       False   \n",
       "\n",
       "   IsFabricated  IsSensitive  IsRetired  IsSpamList  \n",
       "0         False        False      False       False  \n",
       "1         False        False      False       False  \n",
       "2         False        False      False       False  \n",
       "3         False        False      False       False  \n",
       "4         False        False      False       False  "
      ]
     },
     "execution_count": 132,
     "metadata": {},
     "output_type": "execute_result"
    }
   ],
   "source": [
    "br.head()"
   ]
  },
  {
   "cell_type": "code",
   "execution_count": 133,
   "metadata": {},
   "outputs": [
    {
     "data": {
      "text/plain": [
       "Name            0\n",
       "Title           0\n",
       "Domain          0\n",
       "BreachDate      0\n",
       "AddedDate       0\n",
       "ModifiedDate    0\n",
       "PwnCount        0\n",
       "Description     0\n",
       "LogoPath        0\n",
       "DataClasses     0\n",
       "IsVerified      0\n",
       "IsFabricated    0\n",
       "IsSensitive     0\n",
       "IsRetired       0\n",
       "IsSpamList      0\n",
       "dtype: int64"
      ]
     },
     "execution_count": 133,
     "metadata": {},
     "output_type": "execute_result"
    }
   ],
   "source": [
    "# see if we need to drop null\n",
    "br.isnull().sum()"
   ]
  },
  {
   "cell_type": "code",
   "execution_count": 134,
   "metadata": {},
   "outputs": [
    {
     "data": {
      "text/plain": [
       "(2, 448, 36, 1, 11)"
      ]
     },
     "execution_count": 134,
     "metadata": {},
     "output_type": "execute_result"
    }
   ],
   "source": [
    "# removed fabricated breaches\n",
    "np.sum(br.IsFabricated), np.sum(br.IsVerified), np.sum(br.IsSensitive), np.sum(br.IsRetired), np.sum(br.IsSpamList)"
   ]
  },
  {
   "cell_type": "code",
   "execution_count": 135,
   "metadata": {},
   "outputs": [
    {
     "name": "stderr",
     "output_type": "stream",
     "text": [
      "/home/oscp/jupyter_notebook/my_project_env/lib/python3.6/site-packages/pandas/core/frame.py:4164: SettingWithCopyWarning: \n",
      "A value is trying to be set on a copy of a slice from a DataFrame\n",
      "\n",
      "See the caveats in the documentation: https://pandas.pydata.org/pandas-docs/stable/user_guide/indexing.html#returning-a-view-versus-a-copy\n",
      "  errors=errors,\n"
     ]
    },
    {
     "data": {
      "text/plain": [
       "(477, 14)"
      ]
     },
     "execution_count": 135,
     "metadata": {},
     "output_type": "execute_result"
    }
   ],
   "source": [
    "# Only use IsFabricated == False and drop the IsFabricated column \n",
    "br2 = br[br.IsFabricated == False]\n",
    "br2.drop('IsFabricated', axis=1, inplace=True)\n",
    "br2.shape"
   ]
  },
  {
   "cell_type": "code",
   "execution_count": 136,
   "metadata": {},
   "outputs": [
    {
     "name": "stderr",
     "output_type": "stream",
     "text": [
      "/home/oscp/jupyter_notebook/my_project_env/lib/python3.6/site-packages/pandas/core/frame.py:4164: SettingWithCopyWarning: \n",
      "A value is trying to be set on a copy of a slice from a DataFrame\n",
      "\n",
      "See the caveats in the documentation: https://pandas.pydata.org/pandas-docs/stable/user_guide/indexing.html#returning-a-view-versus-a-copy\n",
      "  errors=errors,\n"
     ]
    },
    {
     "data": {
      "text/plain": [
       "(448, 13)"
      ]
     },
     "execution_count": 136,
     "metadata": {},
     "output_type": "execute_result"
    }
   ],
   "source": [
    "# Only use IsVerified == False and drop the IsFabricated column \n",
    "br3 = br2[br2.IsVerified == True]\n",
    "br3.drop('IsVerified', axis=1, inplace=True)\n",
    "br3.shape"
   ]
  },
  {
   "cell_type": "code",
   "execution_count": 137,
   "metadata": {},
   "outputs": [
    {
     "data": {
      "text/plain": [
       "(30, 1, 11)"
      ]
     },
     "execution_count": 137,
     "metadata": {},
     "output_type": "execute_result"
    }
   ],
   "source": [
    "np.sum(br3.IsSensitive), np.sum(br3.IsRetired), np.sum(br3.IsSpamList)"
   ]
  },
  {
   "cell_type": "code",
   "execution_count": 138,
   "metadata": {},
   "outputs": [
    {
     "data": {
      "text/html": [
       "<div>\n",
       "<style scoped>\n",
       "    .dataframe tbody tr th:only-of-type {\n",
       "        vertical-align: middle;\n",
       "    }\n",
       "\n",
       "    .dataframe tbody tr th {\n",
       "        vertical-align: top;\n",
       "    }\n",
       "\n",
       "    .dataframe thead th {\n",
       "        text-align: right;\n",
       "    }\n",
       "</style>\n",
       "<table border=\"1\" class=\"dataframe\">\n",
       "  <thead>\n",
       "    <tr style=\"text-align: right;\">\n",
       "      <th></th>\n",
       "      <th>Name</th>\n",
       "      <th>Title</th>\n",
       "      <th>Domain</th>\n",
       "      <th>BreachDate</th>\n",
       "      <th>AddedDate</th>\n",
       "      <th>ModifiedDate</th>\n",
       "      <th>PwnCount</th>\n",
       "      <th>Description</th>\n",
       "      <th>LogoPath</th>\n",
       "      <th>DataClasses</th>\n",
       "      <th>IsSensitive</th>\n",
       "      <th>IsRetired</th>\n",
       "      <th>IsSpamList</th>\n",
       "    </tr>\n",
       "  </thead>\n",
       "  <tbody>\n",
       "    <tr>\n",
       "      <th>0</th>\n",
       "      <td>000webhost</td>\n",
       "      <td>000webhost</td>\n",
       "      <td>000webhost.com</td>\n",
       "      <td>2015-03-01</td>\n",
       "      <td>2015-10-26T23:35:45Z</td>\n",
       "      <td>2017-12-10T21:44:27Z</td>\n",
       "      <td>14936670</td>\n",
       "      <td>In approximately March 2015, the free web host...</td>\n",
       "      <td>https://haveibeenpwned.com/Content/Images/Pwne...</td>\n",
       "      <td>[Email addresses, IP addresses, Names, Passwords]</td>\n",
       "      <td>False</td>\n",
       "      <td>False</td>\n",
       "      <td>False</td>\n",
       "    </tr>\n",
       "    <tr>\n",
       "      <th>2</th>\n",
       "      <td>17Media</td>\n",
       "      <td>17</td>\n",
       "      <td>17app.co</td>\n",
       "      <td>2016-04-19</td>\n",
       "      <td>2016-07-08T01:55:03Z</td>\n",
       "      <td>2016-07-08T01:55:03Z</td>\n",
       "      <td>4009640</td>\n",
       "      <td>In April 2016, customer data obtained from the...</td>\n",
       "      <td>https://haveibeenpwned.com/Content/Images/Pwne...</td>\n",
       "      <td>[Device information, Email addresses, IP addre...</td>\n",
       "      <td>False</td>\n",
       "      <td>False</td>\n",
       "      <td>False</td>\n",
       "    </tr>\n",
       "    <tr>\n",
       "      <th>5</th>\n",
       "      <td>2fast4u</td>\n",
       "      <td>2fast4u</td>\n",
       "      <td>2fast4u.be</td>\n",
       "      <td>2017-12-20</td>\n",
       "      <td>2018-01-07T08:19:39Z</td>\n",
       "      <td>2018-01-07T08:19:39Z</td>\n",
       "      <td>17706</td>\n",
       "      <td>In December 2017, the Belgian motorcycle forum...</td>\n",
       "      <td>https://haveibeenpwned.com/Content/Images/Pwne...</td>\n",
       "      <td>[Email addresses, Passwords, Usernames]</td>\n",
       "      <td>False</td>\n",
       "      <td>False</td>\n",
       "      <td>False</td>\n",
       "    </tr>\n",
       "    <tr>\n",
       "      <th>6</th>\n",
       "      <td>500px</td>\n",
       "      <td>500px</td>\n",
       "      <td>500px.com</td>\n",
       "      <td>2018-07-05</td>\n",
       "      <td>2019-03-25T08:01:09Z</td>\n",
       "      <td>2019-03-25T08:01:09Z</td>\n",
       "      <td>14867999</td>\n",
       "      <td>In mid-2018, the online photography community ...</td>\n",
       "      <td>https://haveibeenpwned.com/Content/Images/Pwne...</td>\n",
       "      <td>[Dates of birth, Email addresses, Genders, Geo...</td>\n",
       "      <td>False</td>\n",
       "      <td>False</td>\n",
       "      <td>False</td>\n",
       "    </tr>\n",
       "    <tr>\n",
       "      <th>8</th>\n",
       "      <td>8fit</td>\n",
       "      <td>8fit</td>\n",
       "      <td>8fit.com</td>\n",
       "      <td>2018-07-01</td>\n",
       "      <td>2019-03-21T18:50:00Z</td>\n",
       "      <td>2019-03-21T18:50:00Z</td>\n",
       "      <td>15025407</td>\n",
       "      <td>In July 2018, the health and fitness service &lt;...</td>\n",
       "      <td>https://haveibeenpwned.com/Content/Images/Pwne...</td>\n",
       "      <td>[Email addresses, Genders, Geographic location...</td>\n",
       "      <td>False</td>\n",
       "      <td>False</td>\n",
       "      <td>False</td>\n",
       "    </tr>\n",
       "    <tr>\n",
       "      <th>...</th>\n",
       "      <td>...</td>\n",
       "      <td>...</td>\n",
       "      <td>...</td>\n",
       "      <td>...</td>\n",
       "      <td>...</td>\n",
       "      <td>...</td>\n",
       "      <td>...</td>\n",
       "      <td>...</td>\n",
       "      <td>...</td>\n",
       "      <td>...</td>\n",
       "      <td>...</td>\n",
       "      <td>...</td>\n",
       "      <td>...</td>\n",
       "    </tr>\n",
       "    <tr>\n",
       "      <th>474</th>\n",
       "      <td>Zooville</td>\n",
       "      <td>Zooville</td>\n",
       "      <td>zooville.org</td>\n",
       "      <td>2019-09-27</td>\n",
       "      <td>2019-10-19T21:22:44Z</td>\n",
       "      <td>2019-10-20T21:58:16Z</td>\n",
       "      <td>71407</td>\n",
       "      <td>In September 2019, the zoophilia and bestialit...</td>\n",
       "      <td>https://haveibeenpwned.com/Content/Images/Pwne...</td>\n",
       "      <td>[Dates of birth, Email addresses, IP addresses...</td>\n",
       "      <td>True</td>\n",
       "      <td>False</td>\n",
       "      <td>False</td>\n",
       "    </tr>\n",
       "    <tr>\n",
       "      <th>475</th>\n",
       "      <td>Zynga</td>\n",
       "      <td>Zynga</td>\n",
       "      <td>zynga.com</td>\n",
       "      <td>2019-09-01</td>\n",
       "      <td>2019-12-19T04:54:45Z</td>\n",
       "      <td>2020-01-11T00:41:51Z</td>\n",
       "      <td>172869660</td>\n",
       "      <td>In September 2019, game developer &lt;a href=\"htt...</td>\n",
       "      <td>https://haveibeenpwned.com/Content/Images/Pwne...</td>\n",
       "      <td>[Email addresses, Passwords, Phone numbers, Us...</td>\n",
       "      <td>False</td>\n",
       "      <td>False</td>\n",
       "      <td>False</td>\n",
       "    </tr>\n",
       "    <tr>\n",
       "      <th>476</th>\n",
       "      <td>Parapa</td>\n",
       "      <td>Пара Па</td>\n",
       "      <td>parapa.mail.ru</td>\n",
       "      <td>2016-08-08</td>\n",
       "      <td>2016-12-28T07:03:17Z</td>\n",
       "      <td>2016-12-28T07:03:17Z</td>\n",
       "      <td>4946850</td>\n",
       "      <td>In August 2016, &lt;a href=\"http://www.zdnet.com/...</td>\n",
       "      <td>https://haveibeenpwned.com/Content/Images/Pwne...</td>\n",
       "      <td>[Email addresses, Passwords, Usernames]</td>\n",
       "      <td>False</td>\n",
       "      <td>False</td>\n",
       "      <td>False</td>\n",
       "    </tr>\n",
       "    <tr>\n",
       "      <th>477</th>\n",
       "      <td>SprashivaiRu</td>\n",
       "      <td>Спрашивай.ру</td>\n",
       "      <td>sprashivai.ru</td>\n",
       "      <td>2015-05-11</td>\n",
       "      <td>2015-05-12T23:50:08Z</td>\n",
       "      <td>2015-05-12T23:50:08Z</td>\n",
       "      <td>3474763</td>\n",
       "      <td>In May 2015, &lt;a href=\"http://sprashivai.ru/\" t...</td>\n",
       "      <td>https://haveibeenpwned.com/Content/Images/Pwne...</td>\n",
       "      <td>[Dates of birth, Email addresses, Genders, Geo...</td>\n",
       "      <td>False</td>\n",
       "      <td>False</td>\n",
       "      <td>False</td>\n",
       "    </tr>\n",
       "    <tr>\n",
       "      <th>478</th>\n",
       "      <td>DecoratingTheHouse</td>\n",
       "      <td>집꾸미기</td>\n",
       "      <td>ggumim.co.kr</td>\n",
       "      <td>2020-03-27</td>\n",
       "      <td>2020-08-02T05:34:42Z</td>\n",
       "      <td>2020-08-02T05:34:42Z</td>\n",
       "      <td>1298651</td>\n",
       "      <td>In March 2020, the Korean interior decoration ...</td>\n",
       "      <td>https://haveibeenpwned.com/Content/Images/Pwne...</td>\n",
       "      <td>[Email addresses, Names, Phone numbers, Userna...</td>\n",
       "      <td>False</td>\n",
       "      <td>False</td>\n",
       "      <td>False</td>\n",
       "    </tr>\n",
       "  </tbody>\n",
       "</table>\n",
       "<p>448 rows × 13 columns</p>\n",
       "</div>"
      ],
      "text/plain": [
       "                   Name         Title          Domain  BreachDate  \\\n",
       "0            000webhost    000webhost  000webhost.com  2015-03-01   \n",
       "2               17Media            17        17app.co  2016-04-19   \n",
       "5               2fast4u       2fast4u      2fast4u.be  2017-12-20   \n",
       "6                 500px         500px       500px.com  2018-07-05   \n",
       "8                  8fit          8fit        8fit.com  2018-07-01   \n",
       "..                  ...           ...             ...         ...   \n",
       "474            Zooville      Zooville    zooville.org  2019-09-27   \n",
       "475               Zynga         Zynga       zynga.com  2019-09-01   \n",
       "476              Parapa       Пара Па  parapa.mail.ru  2016-08-08   \n",
       "477        SprashivaiRu  Спрашивай.ру   sprashivai.ru  2015-05-11   \n",
       "478  DecoratingTheHouse          집꾸미기    ggumim.co.kr  2020-03-27   \n",
       "\n",
       "                AddedDate          ModifiedDate   PwnCount  \\\n",
       "0    2015-10-26T23:35:45Z  2017-12-10T21:44:27Z   14936670   \n",
       "2    2016-07-08T01:55:03Z  2016-07-08T01:55:03Z    4009640   \n",
       "5    2018-01-07T08:19:39Z  2018-01-07T08:19:39Z      17706   \n",
       "6    2019-03-25T08:01:09Z  2019-03-25T08:01:09Z   14867999   \n",
       "8    2019-03-21T18:50:00Z  2019-03-21T18:50:00Z   15025407   \n",
       "..                    ...                   ...        ...   \n",
       "474  2019-10-19T21:22:44Z  2019-10-20T21:58:16Z      71407   \n",
       "475  2019-12-19T04:54:45Z  2020-01-11T00:41:51Z  172869660   \n",
       "476  2016-12-28T07:03:17Z  2016-12-28T07:03:17Z    4946850   \n",
       "477  2015-05-12T23:50:08Z  2015-05-12T23:50:08Z    3474763   \n",
       "478  2020-08-02T05:34:42Z  2020-08-02T05:34:42Z    1298651   \n",
       "\n",
       "                                           Description  \\\n",
       "0    In approximately March 2015, the free web host...   \n",
       "2    In April 2016, customer data obtained from the...   \n",
       "5    In December 2017, the Belgian motorcycle forum...   \n",
       "6    In mid-2018, the online photography community ...   \n",
       "8    In July 2018, the health and fitness service <...   \n",
       "..                                                 ...   \n",
       "474  In September 2019, the zoophilia and bestialit...   \n",
       "475  In September 2019, game developer <a href=\"htt...   \n",
       "476  In August 2016, <a href=\"http://www.zdnet.com/...   \n",
       "477  In May 2015, <a href=\"http://sprashivai.ru/\" t...   \n",
       "478  In March 2020, the Korean interior decoration ...   \n",
       "\n",
       "                                              LogoPath  \\\n",
       "0    https://haveibeenpwned.com/Content/Images/Pwne...   \n",
       "2    https://haveibeenpwned.com/Content/Images/Pwne...   \n",
       "5    https://haveibeenpwned.com/Content/Images/Pwne...   \n",
       "6    https://haveibeenpwned.com/Content/Images/Pwne...   \n",
       "8    https://haveibeenpwned.com/Content/Images/Pwne...   \n",
       "..                                                 ...   \n",
       "474  https://haveibeenpwned.com/Content/Images/Pwne...   \n",
       "475  https://haveibeenpwned.com/Content/Images/Pwne...   \n",
       "476  https://haveibeenpwned.com/Content/Images/Pwne...   \n",
       "477  https://haveibeenpwned.com/Content/Images/Pwne...   \n",
       "478  https://haveibeenpwned.com/Content/Images/Pwne...   \n",
       "\n",
       "                                           DataClasses  IsSensitive  \\\n",
       "0    [Email addresses, IP addresses, Names, Passwords]        False   \n",
       "2    [Device information, Email addresses, IP addre...        False   \n",
       "5              [Email addresses, Passwords, Usernames]        False   \n",
       "6    [Dates of birth, Email addresses, Genders, Geo...        False   \n",
       "8    [Email addresses, Genders, Geographic location...        False   \n",
       "..                                                 ...          ...   \n",
       "474  [Dates of birth, Email addresses, IP addresses...         True   \n",
       "475  [Email addresses, Passwords, Phone numbers, Us...        False   \n",
       "476            [Email addresses, Passwords, Usernames]        False   \n",
       "477  [Dates of birth, Email addresses, Genders, Geo...        False   \n",
       "478  [Email addresses, Names, Phone numbers, Userna...        False   \n",
       "\n",
       "     IsRetired  IsSpamList  \n",
       "0        False       False  \n",
       "2        False       False  \n",
       "5        False       False  \n",
       "6        False       False  \n",
       "8        False       False  \n",
       "..         ...         ...  \n",
       "474      False       False  \n",
       "475      False       False  \n",
       "476      False       False  \n",
       "477      False       False  \n",
       "478      False       False  \n",
       "\n",
       "[448 rows x 13 columns]"
      ]
     },
     "execution_count": 138,
     "metadata": {},
     "output_type": "execute_result"
    }
   ],
   "source": [
    "br3"
   ]
  },
  {
   "cell_type": "code",
   "execution_count": 139,
   "metadata": {},
   "outputs": [
    {
     "data": {
      "text/plain": [
       "('2007-07-12', '2020-08-19', pandas.core.series.Series)"
      ]
     },
     "execution_count": 139,
     "metadata": {},
     "output_type": "execute_result"
    }
   ],
   "source": [
    "# lets start with the time range of the data\n",
    "br3.BreachDate.min(), br3.BreachDate.max(), type(br3.BreachDate)"
   ]
  },
  {
   "cell_type": "code",
   "execution_count": 140,
   "metadata": {},
   "outputs": [
    {
     "name": "stderr",
     "output_type": "stream",
     "text": [
      "/home/oscp/jupyter_notebook/my_project_env/lib/python3.6/site-packages/ipykernel_launcher.py:1: SettingWithCopyWarning: \n",
      "A value is trying to be set on a copy of a slice from a DataFrame.\n",
      "Try using .loc[row_indexer,col_indexer] = value instead\n",
      "\n",
      "See the caveats in the documentation: https://pandas.pydata.org/pandas-docs/stable/user_guide/indexing.html#returning-a-view-versus-a-copy\n",
      "  \"\"\"Entry point for launching an IPython kernel.\n",
      "/home/oscp/jupyter_notebook/my_project_env/lib/python3.6/site-packages/ipykernel_launcher.py:2: SettingWithCopyWarning: \n",
      "A value is trying to be set on a copy of a slice from a DataFrame.\n",
      "Try using .loc[row_indexer,col_indexer] = value instead\n",
      "\n",
      "See the caveats in the documentation: https://pandas.pydata.org/pandas-docs/stable/user_guide/indexing.html#returning-a-view-versus-a-copy\n",
      "  \n"
     ]
    },
    {
     "data": {
      "text/plain": [
       "0      2015\n",
       "2      2016\n",
       "5      2017\n",
       "6      2018\n",
       "8      2018\n",
       "       ... \n",
       "474    2019\n",
       "475    2019\n",
       "476    2016\n",
       "477    2015\n",
       "478    2020\n",
       "Name: BreachYear, Length: 448, dtype: int64"
      ]
     },
     "execution_count": 140,
     "metadata": {},
     "output_type": "execute_result"
    }
   ],
   "source": [
    "br3['BreachDate'] = pd.to_datetime(br3['BreachDate'])\n",
    "br3['BreachYear'] = br3['BreachDate'].dt.year\n",
    "br3['BreachYear']"
   ]
  },
  {
   "cell_type": "markdown",
   "metadata": {},
   "source": [
    "### Make sure we also evaluate duplicates from business context during data cleaning\n",
    "\n",
    "Are their any companies that got hacked twice?"
   ]
  },
  {
   "cell_type": "code",
   "execution_count": 141,
   "metadata": {},
   "outputs": [
    {
     "data": {
      "text/plain": [
       "[]"
      ]
     },
     "execution_count": 141,
     "metadata": {},
     "output_type": "execute_result"
    }
   ],
   "source": [
    "com = set()\n",
    "twice = list()\n",
    "for i in br3['Name']:\n",
    "    if i in com:\n",
    "        twice.append(i)\n",
    "    else:\n",
    "        com.add(i)\n",
    "\n",
    "twice"
   ]
  },
  {
   "cell_type": "code",
   "execution_count": 142,
   "metadata": {},
   "outputs": [
    {
     "data": {
      "text/plain": [
       "{'AKP',\n",
       " 'Adapt',\n",
       " 'Avast',\n",
       " 'Bell',\n",
       " 'Bolt',\n",
       " 'DDO',\n",
       " 'DLH',\n",
       " 'Edmodo',\n",
       " 'Elance',\n",
       " 'Elanic',\n",
       " 'Evony',\n",
       " 'GoGames',\n",
       " 'HackForums',\n",
       " 'IGF',\n",
       " 'Lifebear',\n",
       " 'Lifeboat',\n",
       " 'MGM',\n",
       " 'MPGH',\n",
       " 'MacForums',\n",
       " 'Nulled',\n",
       " 'NulledCH',\n",
       " 'OVH',\n",
       " 'PDL',\n",
       " 'QIP',\n",
       " 'R2Games',\n",
       " 'SkTorrent',\n",
       " 'Sony',\n",
       " 'Tamodo',\n",
       " 'Tout',\n",
       " 'VK',\n",
       " 'VNG',\n",
       " 'uTorrent'}"
      ]
     },
     "execution_count": 142,
     "metadata": {},
     "output_type": "execute_result"
    }
   ],
   "source": [
    "# check if there is any data input errors for duplicates by edit distance\n",
    "import nltk\n",
    "\n",
    "com = set()\n",
    "twice = set()\n",
    "for i in br3['Name']:\n",
    "    for j in com:\n",
    "        if nltk.edit_distance(i, j) <= 2:\n",
    "            twice.add(i)\n",
    "            twice.add(j)\n",
    "    else:\n",
    "        com.add(i)\n",
    "\n",
    "twice"
   ]
  },
  {
   "cell_type": "markdown",
   "metadata": {},
   "source": [
    "They both looks like hacking community. But it is not completely clear if they are the same entity although the TLD both are in the structure of null.<>"
   ]
  },
  {
   "cell_type": "code",
   "execution_count": 143,
   "metadata": {},
   "outputs": [
    {
     "name": "stdout",
     "output_type": "stream",
     "text": [
      "In May 2020, the hacking forum <a href=\"https://www.nulled.ch/\" target=\"_blank\" rel=\"noopener\">Nulled.ch</a> was breached and the data published to a rival hacking forum. Over 43k records were compromised and included IP and email addresses, usernames and passwords stored as salted MD5 hashes alongside the private message history of the website's admin. The data was provided to HIBP by a source who requested it be attributed to &quot;Split10&quot;. \n",
      "\n",
      " In May 2016, the cracking community forum known as <a href=\"http://nulled.cr/\" target=\"_blank\" rel=\"noopener\">Nulled.cr</a> was hacked and 599k user accounts were leaked publicly. The compromised data included email and IP addresses, weak salted MD5 password hashes and hundreds of thousands of private messages between members.\n"
     ]
    }
   ],
   "source": [
    "null = br3[(br3['Name'] == 'Nulled') | (br3['Name'] == 'NulledCH')]\n",
    "print(null.iloc[0,7], '\\n\\n', null.iloc[1,7])"
   ]
  },
  {
   "cell_type": "markdown",
   "metadata": {},
   "source": [
    "## Evaluation\n",
    "\n",
    "### Q1: What are the top incidents?"
   ]
  },
  {
   "cell_type": "code",
   "execution_count": 144,
   "metadata": {},
   "outputs": [
    {
     "data": {
      "text/html": [
       "<div>\n",
       "<style scoped>\n",
       "    .dataframe tbody tr th:only-of-type {\n",
       "        vertical-align: middle;\n",
       "    }\n",
       "\n",
       "    .dataframe tbody tr th {\n",
       "        vertical-align: top;\n",
       "    }\n",
       "\n",
       "    .dataframe thead th {\n",
       "        text-align: right;\n",
       "    }\n",
       "</style>\n",
       "<table border=\"1\" class=\"dataframe\">\n",
       "  <thead>\n",
       "    <tr style=\"text-align: right;\">\n",
       "      <th></th>\n",
       "      <th>Name</th>\n",
       "      <th>Title</th>\n",
       "      <th>Domain</th>\n",
       "      <th>BreachDate</th>\n",
       "      <th>AddedDate</th>\n",
       "      <th>ModifiedDate</th>\n",
       "      <th>PwnCount</th>\n",
       "      <th>Description</th>\n",
       "      <th>LogoPath</th>\n",
       "      <th>DataClasses</th>\n",
       "      <th>IsSensitive</th>\n",
       "      <th>IsRetired</th>\n",
       "      <th>IsSpamList</th>\n",
       "      <th>BreachYear</th>\n",
       "    </tr>\n",
       "  </thead>\n",
       "  <tbody>\n",
       "    <tr>\n",
       "      <th>16</th>\n",
       "      <td>AdultFriendFinder2016</td>\n",
       "      <td>Adult FriendFinder (2016)</td>\n",
       "      <td>adultfriendfinder.com</td>\n",
       "      <td>2016-10-16</td>\n",
       "      <td>2020-02-06T23:53:53Z</td>\n",
       "      <td>2020-02-07T01:11:28Z</td>\n",
       "      <td>169746810</td>\n",
       "      <td>In October 2016, the adult entertainment compa...</td>\n",
       "      <td>https://haveibeenpwned.com/Content/Images/Pwne...</td>\n",
       "      <td>[Email addresses, Passwords, Spoken languages,...</td>\n",
       "      <td>True</td>\n",
       "      <td>False</td>\n",
       "      <td>False</td>\n",
       "      <td>2016</td>\n",
       "    </tr>\n",
       "    <tr>\n",
       "      <th>110</th>\n",
       "      <td>PDL</td>\n",
       "      <td>Data Enrichment Exposure From PDL Customer</td>\n",
       "      <td></td>\n",
       "      <td>2019-10-16</td>\n",
       "      <td>2019-11-22T20:13:04Z</td>\n",
       "      <td>2019-11-22T20:13:04Z</td>\n",
       "      <td>622161052</td>\n",
       "      <td>In October 2019, &lt;a href=\"https://www.troyhunt...</td>\n",
       "      <td>https://haveibeenpwned.com/Content/Images/Pwne...</td>\n",
       "      <td>[Email addresses, Employers, Geographic locati...</td>\n",
       "      <td>False</td>\n",
       "      <td>False</td>\n",
       "      <td>False</td>\n",
       "      <td>2019</td>\n",
       "    </tr>\n",
       "    <tr>\n",
       "      <th>238</th>\n",
       "      <td>LinkedIn</td>\n",
       "      <td>LinkedIn</td>\n",
       "      <td>linkedin.com</td>\n",
       "      <td>2012-05-05</td>\n",
       "      <td>2016-05-21T21:35:40Z</td>\n",
       "      <td>2016-05-21T21:35:40Z</td>\n",
       "      <td>164611595</td>\n",
       "      <td>In May 2016, &lt;a href=\"https://www.troyhunt.com...</td>\n",
       "      <td>https://haveibeenpwned.com/Content/Images/Pwne...</td>\n",
       "      <td>[Email addresses, Passwords]</td>\n",
       "      <td>False</td>\n",
       "      <td>False</td>\n",
       "      <td>False</td>\n",
       "      <td>2012</td>\n",
       "    </tr>\n",
       "    <tr>\n",
       "      <th>285</th>\n",
       "      <td>MySpace</td>\n",
       "      <td>MySpace</td>\n",
       "      <td>myspace.com</td>\n",
       "      <td>2008-07-01</td>\n",
       "      <td>2016-05-31T00:12:29Z</td>\n",
       "      <td>2016-05-31T00:12:29Z</td>\n",
       "      <td>359420698</td>\n",
       "      <td>In approximately 2008, &lt;a href=\"http://motherb...</td>\n",
       "      <td>https://haveibeenpwned.com/Content/Images/Pwne...</td>\n",
       "      <td>[Email addresses, Passwords, Usernames]</td>\n",
       "      <td>False</td>\n",
       "      <td>False</td>\n",
       "      <td>False</td>\n",
       "      <td>2008</td>\n",
       "    </tr>\n",
       "    <tr>\n",
       "      <th>305</th>\n",
       "      <td>OnlinerSpambot</td>\n",
       "      <td>Onliner Spambot</td>\n",
       "      <td></td>\n",
       "      <td>2017-08-28</td>\n",
       "      <td>2017-08-29T19:25:56Z</td>\n",
       "      <td>2017-08-29T19:25:56Z</td>\n",
       "      <td>711477622</td>\n",
       "      <td>In August 2017, a spambot by the name of &lt;a hr...</td>\n",
       "      <td>https://haveibeenpwned.com/Content/Images/Pwne...</td>\n",
       "      <td>[Email addresses, Passwords]</td>\n",
       "      <td>False</td>\n",
       "      <td>False</td>\n",
       "      <td>True</td>\n",
       "      <td>2017</td>\n",
       "    </tr>\n",
       "    <tr>\n",
       "      <th>348</th>\n",
       "      <td>RiverCityMedia</td>\n",
       "      <td>River City Media Spam List</td>\n",
       "      <td>rivercitymediaonline.com</td>\n",
       "      <td>2017-01-01</td>\n",
       "      <td>2017-03-08T23:49:53Z</td>\n",
       "      <td>2017-03-08T23:49:53Z</td>\n",
       "      <td>393430309</td>\n",
       "      <td>In January 2017, &lt;a href=\"https://web.archive....</td>\n",
       "      <td>https://haveibeenpwned.com/Content/Images/Pwne...</td>\n",
       "      <td>[Email addresses, IP addresses, Names, Physica...</td>\n",
       "      <td>False</td>\n",
       "      <td>False</td>\n",
       "      <td>True</td>\n",
       "      <td>2017</td>\n",
       "    </tr>\n",
       "    <tr>\n",
       "      <th>426</th>\n",
       "      <td>VerificationsIO</td>\n",
       "      <td>Verifications.io</td>\n",
       "      <td>verifications.io</td>\n",
       "      <td>2019-02-25</td>\n",
       "      <td>2019-03-09T19:29:54Z</td>\n",
       "      <td>2019-03-09T20:49:51Z</td>\n",
       "      <td>763117241</td>\n",
       "      <td>In February 2019, the email address validation...</td>\n",
       "      <td>https://haveibeenpwned.com/Content/Images/Pwne...</td>\n",
       "      <td>[Dates of birth, Email addresses, Employers, G...</td>\n",
       "      <td>False</td>\n",
       "      <td>False</td>\n",
       "      <td>False</td>\n",
       "      <td>2019</td>\n",
       "    </tr>\n",
       "    <tr>\n",
       "      <th>441</th>\n",
       "      <td>Wattpad</td>\n",
       "      <td>Wattpad</td>\n",
       "      <td>wattpad.com</td>\n",
       "      <td>2020-06-29</td>\n",
       "      <td>2020-07-19T22:49:19Z</td>\n",
       "      <td>2020-07-19T22:49:19Z</td>\n",
       "      <td>268765495</td>\n",
       "      <td>In June 2020, the user-generated stories websi...</td>\n",
       "      <td>https://haveibeenpwned.com/Content/Images/Pwne...</td>\n",
       "      <td>[Bios, Dates of birth, Email addresses, Gender...</td>\n",
       "      <td>False</td>\n",
       "      <td>False</td>\n",
       "      <td>False</td>\n",
       "      <td>2020</td>\n",
       "    </tr>\n",
       "    <tr>\n",
       "      <th>475</th>\n",
       "      <td>Zynga</td>\n",
       "      <td>Zynga</td>\n",
       "      <td>zynga.com</td>\n",
       "      <td>2019-09-01</td>\n",
       "      <td>2019-12-19T04:54:45Z</td>\n",
       "      <td>2020-01-11T00:41:51Z</td>\n",
       "      <td>172869660</td>\n",
       "      <td>In September 2019, game developer &lt;a href=\"htt...</td>\n",
       "      <td>https://haveibeenpwned.com/Content/Images/Pwne...</td>\n",
       "      <td>[Email addresses, Passwords, Phone numbers, Us...</td>\n",
       "      <td>False</td>\n",
       "      <td>False</td>\n",
       "      <td>False</td>\n",
       "      <td>2019</td>\n",
       "    </tr>\n",
       "  </tbody>\n",
       "</table>\n",
       "</div>"
      ],
      "text/plain": [
       "                      Name                                       Title  \\\n",
       "16   AdultFriendFinder2016                   Adult FriendFinder (2016)   \n",
       "110                    PDL  Data Enrichment Exposure From PDL Customer   \n",
       "238               LinkedIn                                    LinkedIn   \n",
       "285                MySpace                                     MySpace   \n",
       "305         OnlinerSpambot                             Onliner Spambot   \n",
       "348         RiverCityMedia                  River City Media Spam List   \n",
       "426        VerificationsIO                            Verifications.io   \n",
       "441                Wattpad                                     Wattpad   \n",
       "475                  Zynga                                       Zynga   \n",
       "\n",
       "                       Domain BreachDate             AddedDate  \\\n",
       "16      adultfriendfinder.com 2016-10-16  2020-02-06T23:53:53Z   \n",
       "110                           2019-10-16  2019-11-22T20:13:04Z   \n",
       "238              linkedin.com 2012-05-05  2016-05-21T21:35:40Z   \n",
       "285               myspace.com 2008-07-01  2016-05-31T00:12:29Z   \n",
       "305                           2017-08-28  2017-08-29T19:25:56Z   \n",
       "348  rivercitymediaonline.com 2017-01-01  2017-03-08T23:49:53Z   \n",
       "426          verifications.io 2019-02-25  2019-03-09T19:29:54Z   \n",
       "441               wattpad.com 2020-06-29  2020-07-19T22:49:19Z   \n",
       "475                 zynga.com 2019-09-01  2019-12-19T04:54:45Z   \n",
       "\n",
       "             ModifiedDate   PwnCount  \\\n",
       "16   2020-02-07T01:11:28Z  169746810   \n",
       "110  2019-11-22T20:13:04Z  622161052   \n",
       "238  2016-05-21T21:35:40Z  164611595   \n",
       "285  2016-05-31T00:12:29Z  359420698   \n",
       "305  2017-08-29T19:25:56Z  711477622   \n",
       "348  2017-03-08T23:49:53Z  393430309   \n",
       "426  2019-03-09T20:49:51Z  763117241   \n",
       "441  2020-07-19T22:49:19Z  268765495   \n",
       "475  2020-01-11T00:41:51Z  172869660   \n",
       "\n",
       "                                           Description  \\\n",
       "16   In October 2016, the adult entertainment compa...   \n",
       "110  In October 2019, <a href=\"https://www.troyhunt...   \n",
       "238  In May 2016, <a href=\"https://www.troyhunt.com...   \n",
       "285  In approximately 2008, <a href=\"http://motherb...   \n",
       "305  In August 2017, a spambot by the name of <a hr...   \n",
       "348  In January 2017, <a href=\"https://web.archive....   \n",
       "426  In February 2019, the email address validation...   \n",
       "441  In June 2020, the user-generated stories websi...   \n",
       "475  In September 2019, game developer <a href=\"htt...   \n",
       "\n",
       "                                              LogoPath  \\\n",
       "16   https://haveibeenpwned.com/Content/Images/Pwne...   \n",
       "110  https://haveibeenpwned.com/Content/Images/Pwne...   \n",
       "238  https://haveibeenpwned.com/Content/Images/Pwne...   \n",
       "285  https://haveibeenpwned.com/Content/Images/Pwne...   \n",
       "305  https://haveibeenpwned.com/Content/Images/Pwne...   \n",
       "348  https://haveibeenpwned.com/Content/Images/Pwne...   \n",
       "426  https://haveibeenpwned.com/Content/Images/Pwne...   \n",
       "441  https://haveibeenpwned.com/Content/Images/Pwne...   \n",
       "475  https://haveibeenpwned.com/Content/Images/Pwne...   \n",
       "\n",
       "                                           DataClasses  IsSensitive  \\\n",
       "16   [Email addresses, Passwords, Spoken languages,...         True   \n",
       "110  [Email addresses, Employers, Geographic locati...        False   \n",
       "238                       [Email addresses, Passwords]        False   \n",
       "285            [Email addresses, Passwords, Usernames]        False   \n",
       "305                       [Email addresses, Passwords]        False   \n",
       "348  [Email addresses, IP addresses, Names, Physica...        False   \n",
       "426  [Dates of birth, Email addresses, Employers, G...        False   \n",
       "441  [Bios, Dates of birth, Email addresses, Gender...        False   \n",
       "475  [Email addresses, Passwords, Phone numbers, Us...        False   \n",
       "\n",
       "     IsRetired  IsSpamList  BreachYear  \n",
       "16       False       False        2016  \n",
       "110      False       False        2019  \n",
       "238      False       False        2012  \n",
       "285      False       False        2008  \n",
       "305      False        True        2017  \n",
       "348      False        True        2017  \n",
       "426      False       False        2019  \n",
       "441      False       False        2020  \n",
       "475      False       False        2019  "
      ]
     },
     "execution_count": 144,
     "metadata": {},
     "output_type": "execute_result"
    }
   ],
   "source": [
    "# What are the top data breaches ranked by number of compromised accounts, i.e., PwnCount\n",
    "br_top_9 = br3[br3['PwnCount'] > br3.PwnCount.quantile(0.98)]\n",
    "br_top_9"
   ]
  },
  {
   "cell_type": "code",
   "execution_count": 145,
   "metadata": {},
   "outputs": [
    {
     "data": {
      "text/html": [
       "<div>\n",
       "<style scoped>\n",
       "    .dataframe tbody tr th:only-of-type {\n",
       "        vertical-align: middle;\n",
       "    }\n",
       "\n",
       "    .dataframe tbody tr th {\n",
       "        vertical-align: top;\n",
       "    }\n",
       "\n",
       "    .dataframe thead th {\n",
       "        text-align: right;\n",
       "    }\n",
       "</style>\n",
       "<table border=\"1\" class=\"dataframe\">\n",
       "  <thead>\n",
       "    <tr style=\"text-align: right;\">\n",
       "      <th></th>\n",
       "      <th>Name</th>\n",
       "      <th>PwnCount</th>\n",
       "    </tr>\n",
       "  </thead>\n",
       "  <tbody>\n",
       "    <tr>\n",
       "      <th>238</th>\n",
       "      <td>LinkedIn</td>\n",
       "      <td>164611595</td>\n",
       "    </tr>\n",
       "    <tr>\n",
       "      <th>16</th>\n",
       "      <td>AdultFriendFinder2016</td>\n",
       "      <td>169746810</td>\n",
       "    </tr>\n",
       "    <tr>\n",
       "      <th>475</th>\n",
       "      <td>Zynga</td>\n",
       "      <td>172869660</td>\n",
       "    </tr>\n",
       "    <tr>\n",
       "      <th>441</th>\n",
       "      <td>Wattpad</td>\n",
       "      <td>268765495</td>\n",
       "    </tr>\n",
       "    <tr>\n",
       "      <th>285</th>\n",
       "      <td>MySpace</td>\n",
       "      <td>359420698</td>\n",
       "    </tr>\n",
       "    <tr>\n",
       "      <th>348</th>\n",
       "      <td>RiverCityMedia</td>\n",
       "      <td>393430309</td>\n",
       "    </tr>\n",
       "    <tr>\n",
       "      <th>110</th>\n",
       "      <td>PDL</td>\n",
       "      <td>622161052</td>\n",
       "    </tr>\n",
       "    <tr>\n",
       "      <th>305</th>\n",
       "      <td>OnlinerSpambot</td>\n",
       "      <td>711477622</td>\n",
       "    </tr>\n",
       "    <tr>\n",
       "      <th>426</th>\n",
       "      <td>VerificationsIO</td>\n",
       "      <td>763117241</td>\n",
       "    </tr>\n",
       "  </tbody>\n",
       "</table>\n",
       "</div>"
      ],
      "text/plain": [
       "                      Name   PwnCount\n",
       "238               LinkedIn  164611595\n",
       "16   AdultFriendFinder2016  169746810\n",
       "475                  Zynga  172869660\n",
       "441                Wattpad  268765495\n",
       "285                MySpace  359420698\n",
       "348         RiverCityMedia  393430309\n",
       "110                    PDL  622161052\n",
       "305         OnlinerSpambot  711477622\n",
       "426        VerificationsIO  763117241"
      ]
     },
     "execution_count": 145,
     "metadata": {},
     "output_type": "execute_result"
    }
   ],
   "source": [
    "br_top_9 = br_top_9[['Name', 'PwnCount']]\n",
    "br_top_9=br_top_9.sort_values('PwnCount')\n",
    "br_top_9"
   ]
  },
  {
   "cell_type": "code",
   "execution_count": 146,
   "metadata": {},
   "outputs": [
    {
     "data": {
      "text/plain": [
       "Text(0, 0.5, 'Number of Accounts Leaked (x $10^8$)')"
      ]
     },
     "execution_count": 146,
     "metadata": {},
     "output_type": "execute_result"
    },
    {
     "data": {
      "image/png": "[encoded data removed]",
      "text/plain": [
       "<Figure size 432x288 with 1 Axes>"
      ]
     },
     "metadata": {
      "needs_background": "light"
     },
     "output_type": "display_data"
    }
   ],
   "source": [
    "# Q3: What are the top incidents?\n",
    "x_unit = np.arange(br_top_9.PwnCount.max(), step=1e8)\n",
    "br_top_9.plot.bar(x='Name', y='PwnCount', rot=60)\n",
    "plt.xlabel('Companies Breached')\n",
    "plt.ylabel('Number of Accounts Leaked (x $10^8$)')"
   ]
  },
  {
   "cell_type": "markdown",
   "metadata": {},
   "source": [
    "### Q2: Does the incidents and breach scale increase over time?\n",
    "\n",
    "\n",
    "We plot the number of breaches by year and we have the following observations\n",
    "\n",
    "1. The number of breaches increases over time from 2007. However, this only indicates the number of breaches \n",
    "disclosed increases which is different from the number of total breaches happened.\n",
    "\n",
    "2. The number of breaches reaches its peak in 2016."
   ]
  },
  {
   "cell_type": "code",
   "execution_count": 147,
   "metadata": {},
   "outputs": [
    {
     "data": {
      "text/plain": [
       "[Text(0.5, 0, 'Year of the Breach'), Text(0, 0.5, 'Number of Breaches')]"
      ]
     },
     "execution_count": 147,
     "metadata": {},
     "output_type": "execute_result"
    },
    {
     "data": {
      "image/png": "[encoded data removed]",
      "text/plain": [
       "<Figure size 504x504 with 1 Axes>"
      ]
     },
     "metadata": {
      "needs_background": "light"
     },
     "output_type": "display_data"
    }
   ],
   "source": [
    "base_color = sb.color_palette()[0]\n",
    "plt.rcParams[\"figure.figsize\"] = (7, 7)\n",
    "ax = sb.countplot(data = br3, x = 'BreachYear', color = base_color)\n",
    "ax.set(xlabel='Year of the Breach', ylabel='Number of Breaches')"
   ]
  },
  {
   "cell_type": "code",
   "execution_count": 148,
   "metadata": {},
   "outputs": [
    {
     "data": {
      "text/plain": [
       "[<matplotlib.lines.Line2D at 0x7fe9573e67b8>]"
      ]
     },
     "execution_count": 148,
     "metadata": {},
     "output_type": "execute_result"
    },
    {
     "data": {
      "image/png": "[encoded data removed]",
      "text/plain": [
       "<Figure size 504x504 with 1 Axes>"
      ]
     },
     "metadata": {
      "needs_background": "light"
     },
     "output_type": "display_data"
    }
   ],
   "source": [
    "# plot the total PwnCount by year\n",
    "pwn_per_year = br3.groupby('BreachYear')['PwnCount'].sum()\n",
    "plt.plot(pwn_per_year)"
   ]
  },
  {
   "cell_type": "code",
   "execution_count": 149,
   "metadata": {},
   "outputs": [
    {
     "data": {
      "text/html": [
       "<div>\n",
       "<style scoped>\n",
       "    .dataframe tbody tr th:only-of-type {\n",
       "        vertical-align: middle;\n",
       "    }\n",
       "\n",
       "    .dataframe tbody tr th {\n",
       "        vertical-align: top;\n",
       "    }\n",
       "\n",
       "    .dataframe thead th {\n",
       "        text-align: right;\n",
       "    }\n",
       "</style>\n",
       "<table border=\"1\" class=\"dataframe\">\n",
       "  <thead>\n",
       "    <tr style=\"text-align: right;\">\n",
       "      <th></th>\n",
       "      <th>BreachCount</th>\n",
       "    </tr>\n",
       "  </thead>\n",
       "  <tbody>\n",
       "    <tr>\n",
       "      <th>0</th>\n",
       "      <td>1</td>\n",
       "    </tr>\n",
       "    <tr>\n",
       "      <th>1</th>\n",
       "      <td>3</td>\n",
       "    </tr>\n",
       "    <tr>\n",
       "      <th>2</th>\n",
       "      <td>2</td>\n",
       "    </tr>\n",
       "    <tr>\n",
       "      <th>3</th>\n",
       "      <td>3</td>\n",
       "    </tr>\n",
       "    <tr>\n",
       "      <th>4</th>\n",
       "      <td>10</td>\n",
       "    </tr>\n",
       "    <tr>\n",
       "      <th>5</th>\n",
       "      <td>15</td>\n",
       "    </tr>\n",
       "    <tr>\n",
       "      <th>6</th>\n",
       "      <td>25</td>\n",
       "    </tr>\n",
       "    <tr>\n",
       "      <th>7</th>\n",
       "      <td>43</td>\n",
       "    </tr>\n",
       "    <tr>\n",
       "      <th>8</th>\n",
       "      <td>69</td>\n",
       "    </tr>\n",
       "    <tr>\n",
       "      <th>9</th>\n",
       "      <td>82</td>\n",
       "    </tr>\n",
       "    <tr>\n",
       "      <th>10</th>\n",
       "      <td>46</td>\n",
       "    </tr>\n",
       "    <tr>\n",
       "      <th>11</th>\n",
       "      <td>63</td>\n",
       "    </tr>\n",
       "    <tr>\n",
       "      <th>12</th>\n",
       "      <td>50</td>\n",
       "    </tr>\n",
       "    <tr>\n",
       "      <th>13</th>\n",
       "      <td>36</td>\n",
       "    </tr>\n",
       "  </tbody>\n",
       "</table>\n",
       "</div>"
      ],
      "text/plain": [
       "    BreachCount\n",
       "0             1\n",
       "1             3\n",
       "2             2\n",
       "3             3\n",
       "4            10\n",
       "5            15\n",
       "6            25\n",
       "7            43\n",
       "8            69\n",
       "9            82\n",
       "10           46\n",
       "11           63\n",
       "12           50\n",
       "13           36"
      ]
     },
     "execution_count": 149,
     "metadata": {},
     "output_type": "execute_result"
    }
   ],
   "source": [
    "breach_count = br3['BreachYear'].value_counts(sort=False)\n",
    "breach_count = pd.DataFrame(breach_count).reset_index(drop=True)\n",
    "breach_count.columns = ['BreachCount']\n",
    "breach_count"
   ]
  },
  {
   "cell_type": "markdown",
   "metadata": {},
   "source": [
    "### Q3: Does the amount of leaked accounts increase as the number of incident increase?\n",
    "We can see the number of account that is leaked does not always correlate to the number of data breaches \n",
    "because the some data breaches leaks much more accounts than the others"
   ]
  },
  {
   "cell_type": "code",
   "execution_count": 150,
   "metadata": {},
   "outputs": [
    {
     "data": {
      "text/html": [
       "<div>\n",
       "<style scoped>\n",
       "    .dataframe tbody tr th:only-of-type {\n",
       "        vertical-align: middle;\n",
       "    }\n",
       "\n",
       "    .dataframe tbody tr th {\n",
       "        vertical-align: top;\n",
       "    }\n",
       "\n",
       "    .dataframe thead th {\n",
       "        text-align: right;\n",
       "    }\n",
       "</style>\n",
       "<table border=\"1\" class=\"dataframe\">\n",
       "  <thead>\n",
       "    <tr style=\"text-align: right;\">\n",
       "      <th></th>\n",
       "      <th>BreachYear</th>\n",
       "      <th>PwnCount</th>\n",
       "      <th>BreachCount</th>\n",
       "    </tr>\n",
       "  </thead>\n",
       "  <tbody>\n",
       "    <tr>\n",
       "      <th>0</th>\n",
       "      <td>2007</td>\n",
       "      <td>2136520</td>\n",
       "      <td>1</td>\n",
       "    </tr>\n",
       "    <tr>\n",
       "      <th>1</th>\n",
       "      <td>2008</td>\n",
       "      <td>360519656</td>\n",
       "      <td>3</td>\n",
       "    </tr>\n",
       "    <tr>\n",
       "      <th>2</th>\n",
       "      <td>2009</td>\n",
       "      <td>5774783</td>\n",
       "      <td>2</td>\n",
       "    </tr>\n",
       "    <tr>\n",
       "      <th>3</th>\n",
       "      <td>2010</td>\n",
       "      <td>5458476</td>\n",
       "      <td>3</td>\n",
       "    </tr>\n",
       "    <tr>\n",
       "      <th>4</th>\n",
       "      <td>2011</td>\n",
       "      <td>103213872</td>\n",
       "      <td>10</td>\n",
       "    </tr>\n",
       "    <tr>\n",
       "      <th>5</th>\n",
       "      <td>2012</td>\n",
       "      <td>454971060</td>\n",
       "      <td>15</td>\n",
       "    </tr>\n",
       "    <tr>\n",
       "      <th>6</th>\n",
       "      <td>2013</td>\n",
       "      <td>425178472</td>\n",
       "      <td>25</td>\n",
       "    </tr>\n",
       "    <tr>\n",
       "      <th>7</th>\n",
       "      <td>2014</td>\n",
       "      <td>140411867</td>\n",
       "      <td>43</td>\n",
       "    </tr>\n",
       "    <tr>\n",
       "      <th>8</th>\n",
       "      <td>2015</td>\n",
       "      <td>229895646</td>\n",
       "      <td>69</td>\n",
       "    </tr>\n",
       "    <tr>\n",
       "      <th>9</th>\n",
       "      <td>2016</td>\n",
       "      <td>621856584</td>\n",
       "      <td>82</td>\n",
       "    </tr>\n",
       "    <tr>\n",
       "      <th>10</th>\n",
       "      <td>2017</td>\n",
       "      <td>1538069841</td>\n",
       "      <td>46</td>\n",
       "    </tr>\n",
       "    <tr>\n",
       "      <th>11</th>\n",
       "      <td>2018</td>\n",
       "      <td>1135248103</td>\n",
       "      <td>63</td>\n",
       "    </tr>\n",
       "    <tr>\n",
       "      <th>12</th>\n",
       "      <td>2019</td>\n",
       "      <td>1886703587</td>\n",
       "      <td>50</td>\n",
       "    </tr>\n",
       "    <tr>\n",
       "      <th>13</th>\n",
       "      <td>2020</td>\n",
       "      <td>622514000</td>\n",
       "      <td>36</td>\n",
       "    </tr>\n",
       "  </tbody>\n",
       "</table>\n",
       "</div>"
      ],
      "text/plain": [
       "    BreachYear    PwnCount  BreachCount\n",
       "0         2007     2136520            1\n",
       "1         2008   360519656            3\n",
       "2         2009     5774783            2\n",
       "3         2010     5458476            3\n",
       "4         2011   103213872           10\n",
       "5         2012   454971060           15\n",
       "6         2013   425178472           25\n",
       "7         2014   140411867           43\n",
       "8         2015   229895646           69\n",
       "9         2016   621856584           82\n",
       "10        2017  1538069841           46\n",
       "11        2018  1135248103           63\n",
       "12        2019  1886703587           50\n",
       "13        2020   622514000           36"
      ]
     },
     "execution_count": 150,
     "metadata": {},
     "output_type": "execute_result"
    }
   ],
   "source": [
    "pwn_per_year = pd.DataFrame(pwn_per_year).reset_index()\n",
    "pwn_per_year['BreachCount'] = breach_count['BreachCount']\n",
    "pwn_per_year"
   ]
  },
  {
   "cell_type": "code",
   "execution_count": 151,
   "metadata": {},
   "outputs": [
    {
     "data": {
      "text/plain": [
       "[Text(0.5, 0, 'Total number of Breaches by Year'),\n",
       " Text(0, 0.5, 'Total number of Leaked Accounts by Year')]"
      ]
     },
     "execution_count": 151,
     "metadata": {},
     "output_type": "execute_result"
    },
    {
     "data": {
      "image/png": "[encoded data removed]",
      "text/plain": [
       "<Figure size 504x504 with 1 Axes>"
      ]
     },
     "metadata": {
      "needs_background": "light"
     },
     "output_type": "display_data"
    }
   ],
   "source": [
    "ax = pwn_per_year.plot.scatter(x='BreachCount', y='PwnCount')\n",
    "ax.set(xlabel='Total number of Breaches by Year', ylabel='Total number of Leaked Accounts by Year')"
   ]
  },
  {
   "cell_type": "markdown",
   "metadata": {},
   "source": [
    "### Q4: Does any months has more incidents than the others across the years?\n",
    "\n",
    "The above facet plot show the amount of data breaches per month for each year. Although it might be difficult to get a universal conclusion, we can still see in most years between 2011 and 2020 (Note the data from 2020 is from Jan to Aug since this article is written in 2020/09), the amount of incidents increases in June and July time frame. In a few other years, peaks happens in December and January time frame. The reason for this could be that many attackers are picking the time when company employees go for vocations. This makes sense since the IT security team will have less people and other employees are typically either more relax which can make them more subject to social engineering or not using their devices during vocation."
   ]
  },
  {
   "cell_type": "code",
   "execution_count": 152,
   "metadata": {},
   "outputs": [
    {
     "name": "stderr",
     "output_type": "stream",
     "text": [
      "/home/oscp/jupyter_notebook/my_project_env/lib/python3.6/site-packages/ipykernel_launcher.py:1: SettingWithCopyWarning: \n",
      "A value is trying to be set on a copy of a slice from a DataFrame.\n",
      "Try using .loc[row_indexer,col_indexer] = value instead\n",
      "\n",
      "See the caveats in the documentation: https://pandas.pydata.org/pandas-docs/stable/user_guide/indexing.html#returning-a-view-versus-a-copy\n",
      "  \"\"\"Entry point for launching an IPython kernel.\n"
     ]
    },
    {
     "data": {
      "text/plain": [
       "0       3\n",
       "2       4\n",
       "5      12\n",
       "6       7\n",
       "8       7\n",
       "       ..\n",
       "474     9\n",
       "475     9\n",
       "476     8\n",
       "477     5\n",
       "478     3\n",
       "Name: BreachMonth, Length: 448, dtype: int64"
      ]
     },
     "execution_count": 152,
     "metadata": {},
     "output_type": "execute_result"
    }
   ],
   "source": [
    "br3['BreachMonth'] = br3['BreachDate'].dt.month\n",
    "br3['BreachMonth']"
   ]
  },
  {
   "cell_type": "code",
   "execution_count": 153,
   "metadata": {},
   "outputs": [
    {
     "data": {
      "text/html": [
       "<div>\n",
       "<style scoped>\n",
       "    .dataframe tbody tr th:only-of-type {\n",
       "        vertical-align: middle;\n",
       "    }\n",
       "\n",
       "    .dataframe tbody tr th {\n",
       "        vertical-align: top;\n",
       "    }\n",
       "\n",
       "    .dataframe thead th {\n",
       "        text-align: right;\n",
       "    }\n",
       "</style>\n",
       "<table border=\"1\" class=\"dataframe\">\n",
       "  <thead>\n",
       "    <tr style=\"text-align: right;\">\n",
       "      <th></th>\n",
       "      <th>BreachYear</th>\n",
       "      <th>BreachMonth</th>\n",
       "      <th>YearMonthCount</th>\n",
       "    </tr>\n",
       "  </thead>\n",
       "  <tbody>\n",
       "    <tr>\n",
       "      <th>0</th>\n",
       "      <td>2007</td>\n",
       "      <td>7</td>\n",
       "      <td>1</td>\n",
       "    </tr>\n",
       "    <tr>\n",
       "      <th>1</th>\n",
       "      <td>2008</td>\n",
       "      <td>4</td>\n",
       "      <td>1</td>\n",
       "    </tr>\n",
       "    <tr>\n",
       "      <th>2</th>\n",
       "      <td>2008</td>\n",
       "      <td>7</td>\n",
       "      <td>1</td>\n",
       "    </tr>\n",
       "    <tr>\n",
       "      <th>3</th>\n",
       "      <td>2008</td>\n",
       "      <td>10</td>\n",
       "      <td>1</td>\n",
       "    </tr>\n",
       "    <tr>\n",
       "      <th>4</th>\n",
       "      <td>2009</td>\n",
       "      <td>1</td>\n",
       "      <td>2</td>\n",
       "    </tr>\n",
       "    <tr>\n",
       "      <th>...</th>\n",
       "      <td>...</td>\n",
       "      <td>...</td>\n",
       "      <td>...</td>\n",
       "    </tr>\n",
       "    <tr>\n",
       "      <th>106</th>\n",
       "      <td>2020</td>\n",
       "      <td>4</td>\n",
       "      <td>4</td>\n",
       "    </tr>\n",
       "    <tr>\n",
       "      <th>107</th>\n",
       "      <td>2020</td>\n",
       "      <td>5</td>\n",
       "      <td>1</td>\n",
       "    </tr>\n",
       "    <tr>\n",
       "      <th>108</th>\n",
       "      <td>2020</td>\n",
       "      <td>6</td>\n",
       "      <td>12</td>\n",
       "    </tr>\n",
       "    <tr>\n",
       "      <th>109</th>\n",
       "      <td>2020</td>\n",
       "      <td>7</td>\n",
       "      <td>2</td>\n",
       "    </tr>\n",
       "    <tr>\n",
       "      <th>110</th>\n",
       "      <td>2020</td>\n",
       "      <td>8</td>\n",
       "      <td>2</td>\n",
       "    </tr>\n",
       "  </tbody>\n",
       "</table>\n",
       "<p>111 rows × 3 columns</p>\n",
       "</div>"
      ],
      "text/plain": [
       "     BreachYear  BreachMonth  YearMonthCount\n",
       "0          2007            7               1\n",
       "1          2008            4               1\n",
       "2          2008            7               1\n",
       "3          2008           10               1\n",
       "4          2009            1               2\n",
       "..          ...          ...             ...\n",
       "106        2020            4               4\n",
       "107        2020            5               1\n",
       "108        2020            6              12\n",
       "109        2020            7               2\n",
       "110        2020            8               2\n",
       "\n",
       "[111 rows x 3 columns]"
      ]
     },
     "execution_count": 153,
     "metadata": {},
     "output_type": "execute_result"
    }
   ],
   "source": [
    "# calculate the aggreate incident count by unique year-month combination\n",
    "br_year_month = br3.groupby(['BreachYear','BreachMonth']).size().reset_index(name='YearMonthCount')\n",
    "br_year_month"
   ]
  },
  {
   "cell_type": "code",
   "execution_count": 154,
   "metadata": {},
   "outputs": [
    {
     "name": "stderr",
     "output_type": "stream",
     "text": [
      "/home/oscp/jupyter_notebook/my_project_env/lib/python3.6/site-packages/seaborn/axisgrid.py:243: UserWarning: The `size` parameter has been renamed to `height`; please update your code.\n",
      "  warnings.warn(msg, UserWarning)\n",
      "/home/oscp/jupyter_notebook/my_project_env/lib/python3.6/site-packages/seaborn/axisgrid.py:723: UserWarning: Using the barplot function without specifying `order` is likely to produce an incorrect plot.\n",
      "  warnings.warn(warning)\n"
     ]
    },
    {
     "data": {
      "text/plain": [
       "(0.0, 13.0)"
      ]
     },
     "execution_count": 154,
     "metadata": {},
     "output_type": "execute_result"
    },
    {
     "data": {
      "image/png": "[encoded data removed]",
      "text/plain": [
       "<Figure size 1152x1152 with 14 Axes>"
      ]
     },
     "metadata": {
      "needs_background": "light"
     },
     "output_type": "display_data"
    }
   ],
   "source": [
    "# we can roughly observe that jun/jul \n",
    "g = sb.FacetGrid(data = br_year_month, col = 'BreachYear', size = 4, col_wrap=4, margin_titles = True)\n",
    "g.map(sb.barplot, 'BreachMonth', 'YearMonthCount')\n",
    "for ax in g.axes.flatten():\n",
    "    ax.tick_params(labelbottom=True)\n",
    "\n",
    "plt.xlim(0, 13)    "
   ]
  },
  {
   "cell_type": "code",
   "execution_count": null,
   "metadata": {},
   "outputs": [
    {
     "name": "stderr",
     "output_type": "stream",
     "text": [
      "/home/oscp/jupyter_notebook/my_project_env/lib/python3.6/site-packages/seaborn/axisgrid.py:243: UserWarning: The `size` parameter has been renamed to `height`; please update your code.\n",
      "  warnings.warn(msg, UserWarning)\n"
     ]
    }
   ],
   "source": [
    "g = sb.FacetGrid(data = br_year_month, col = 'BreachYear', size = 4, col_wrap=4, margin_titles = True)\n",
    "# Overlay line plot on top of scatter plot because lineplot does not splot a single dot \n",
    "# and scatter splot cannot show the trend clearly\n",
    "g.map(sb.lineplot, 'BreachMonth', 'YearMonthCount')\n",
    "g.map(sb.scatterplot, 'BreachMonth', 'YearMonthCount')\n",
    "for ax in g.axes.flatten():\n",
    "    ax.tick_params(labelbottom=True)\n",
    "    ax.set(xlabel='Month of the Breach', ylabel='Number of Breaches')\n"
   ]
  },
  {
   "cell_type": "markdown",
   "metadata": {},
   "source": [
    "### Q5: What is the ranking of breached asset classes in these incidents?\n",
    "Among 121 types of asset categories, I plotted the top 10 assets that appears in the incidents. This shows the type of data attackers are aiming for the most. We can see email address, username and passwords are among the highest targets. Personal information such as names, date of birth, phone number, addresses, and gender are also most frequently targeted. It is interesting to web activity is also among the top 10 categories. There are several reasons why attackers can be interested in this:\n",
    "\n",
    "1.Given web activity, attackers can potentially build a personal profile for each person and this can be used for password cracking dictionary creation for the user’s other accounts.\n",
    "\n",
    "2.The profile can also be used to create social engineering campaigns such as phishing emails that the users are more likely to be interested in."
   ]
  },
  {
   "cell_type": "code",
   "execution_count": null,
   "metadata": {},
   "outputs": [],
   "source": [
    "import itertools\n",
    "import collections\n",
    "\n",
    "# https://stackoverflow.com/questions/1829470/ranking-elements-of-multiple-lists-by-their-count-in-python/1829683\n",
    "def freq_sorted(iterable, key=None, reverse=False, include_freq=False):\n",
    "  \"\"\"Return a list of items from iterable sorted by frequency.\n",
    "\n",
    "  If include_freq, (item, freq) is returned instead of item.\n",
    "\n",
    "  key(item) must be hashable, but items need not be.\n",
    "\n",
    "  *Higher* frequencies are returned first.  Within the same frequency group,\n",
    "  items are ordered according to key(item).\n",
    "  \"\"\"\n",
    "  if key is None:\n",
    "    key = lambda x: x\n",
    "\n",
    "  key_counts = collections.defaultdict(int)\n",
    "  items = {}\n",
    "  for n in iterable:\n",
    "    k = key(n)\n",
    "    key_counts[k] += 1\n",
    "    items.setdefault(k, n)\n",
    "\n",
    "  if include_freq:\n",
    "    def get_item(k, c):\n",
    "      return items[k], c\n",
    "  else:\n",
    "    def get_item(k, c):\n",
    "      return items[k]\n",
    "\n",
    "  return [get_item(k, c) for k, c in\n",
    "          sorted(key_counts.items(),\n",
    "                 key=lambda kc: (-kc[1], kc[0]),\n",
    "                 reverse=reverse)]\n",
    "\n",
    "\n",
    "asset_map = freq_sorted(itertools.chain.from_iterable(br3.DataClasses), include_freq=True)\n",
    "asset_map"
   ]
  },
  {
   "cell_type": "code",
   "execution_count": null,
   "metadata": {},
   "outputs": [],
   "source": [
    "asset_df = pd.DataFrame(asset_map)\n",
    "asset_df.columns = ['asset', 'count']\n",
    "asset_df=asset_df.sort_values('count', ascending=False)\n",
    "asset_df"
   ]
  },
  {
   "cell_type": "code",
   "execution_count": null,
   "metadata": {},
   "outputs": [],
   "source": [
    "asset_df_top10 = asset_df[:10]\n",
    "asset_df_top10.plot.barh(x='asset', y='count')"
   ]
  },
  {
   "cell_type": "markdown",
   "metadata": {},
   "source": [
    "## Conclusion\n",
    "As our lives getting more and more digitized, data becomes the most valuable assets for companies and attackers are highly monetary driven today. This results in a higher number and larger scale of data breaches. Attackers also strategically picks their time to attack and collect not only data that they can sell but also data that can improve their intelligence.\n",
    "\n",
    "Companies may derive the following knowledge to allocate their defense budgets:\n",
    "1.Attackers frequently targets the top 10 asset categories and security budgets should be invested into the areas that can protect those.\n",
    "2.Attackers tends to attack more successfully during summer vocation time and winter holiday seasons. Companies should make sure they pay extra operational caution during those times.\n",
    "\n",
    "I hope to see more technical, legal, and business innovations that can create more secure online world!"
   ]
  }
 ],
 "metadata": {
  "kernelspec": {
   "display_name": "Python 3",
   "language": "python",
   "name": "python3"
  },
  "language_info": {
   "codemirror_mode": {
    "name": "ipython",
    "version": 3
   },
   "file_extension": ".py",
   "mimetype": "text/x-python",
   "name": "python",
   "nbconvert_exporter": "python",
   "pygments_lexer": "ipython3",
   "version": "3.6.9"
  }
 },
 "nbformat": 4,
 "nbformat_minor": 4
}
